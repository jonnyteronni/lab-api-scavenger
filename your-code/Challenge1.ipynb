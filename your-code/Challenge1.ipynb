{
 "cells": [
  {
   "cell_type": "code",
   "execution_count": 1,
   "metadata": {
    "scrolled": true
   },
   "outputs": [],
   "source": [
    "import requests\n",
    "import pandas as pd"
   ]
  },
  {
   "cell_type": "code",
   "execution_count": 4,
   "metadata": {},
   "outputs": [
    {
     "data": {
      "text/html": [
       "<div>\n",
       "<style scoped>\n",
       "    .dataframe tbody tr th:only-of-type {\n",
       "        vertical-align: middle;\n",
       "    }\n",
       "\n",
       "    .dataframe tbody tr th {\n",
       "        vertical-align: top;\n",
       "    }\n",
       "\n",
       "    .dataframe thead th {\n",
       "        text-align: right;\n",
       "    }\n",
       "</style>\n",
       "<table border=\"1\" class=\"dataframe\">\n",
       "  <thead>\n",
       "    <tr style=\"text-align: right;\">\n",
       "      <th></th>\n",
       "      <th>id</th>\n",
       "      <th>node_id</th>\n",
       "      <th>name</th>\n",
       "      <th>full_name</th>\n",
       "      <th>private</th>\n",
       "      <th>owner</th>\n",
       "      <th>html_url</th>\n",
       "      <th>description</th>\n",
       "      <th>fork</th>\n",
       "      <th>url</th>\n",
       "      <th>...</th>\n",
       "      <th>mirror_url</th>\n",
       "      <th>archived</th>\n",
       "      <th>disabled</th>\n",
       "      <th>open_issues_count</th>\n",
       "      <th>license</th>\n",
       "      <th>forks</th>\n",
       "      <th>open_issues</th>\n",
       "      <th>watchers</th>\n",
       "      <th>default_branch</th>\n",
       "      <th>permissions</th>\n",
       "    </tr>\n",
       "  </thead>\n",
       "  <tbody>\n",
       "    <tr>\n",
       "      <th>0</th>\n",
       "      <td>278336683</td>\n",
       "      <td>MDEwOlJlcG9zaXRvcnkyNzgzMzY2ODM=</td>\n",
       "      <td>bcn-feb-2019</td>\n",
       "      <td>franbaldi/bcn-feb-2019</td>\n",
       "      <td>False</td>\n",
       "      <td>{'login': 'franbaldi', 'id': 25199469, 'node_i...</td>\n",
       "      <td>https://github.com/franbaldi/bcn-feb-2019</td>\n",
       "      <td>None</td>\n",
       "      <td>True</td>\n",
       "      <td>https://api.github.com/repos/franbaldi/bcn-feb...</td>\n",
       "      <td>...</td>\n",
       "      <td>None</td>\n",
       "      <td>False</td>\n",
       "      <td>False</td>\n",
       "      <td>0</td>\n",
       "      <td>{'key': 'agpl-3.0', 'name': 'GNU Affero Genera...</td>\n",
       "      <td>0</td>\n",
       "      <td>0</td>\n",
       "      <td>0</td>\n",
       "      <td>master</td>\n",
       "      <td>{'admin': False, 'push': False, 'pull': True}</td>\n",
       "    </tr>\n",
       "    <tr>\n",
       "      <th>1</th>\n",
       "      <td>276718167</td>\n",
       "      <td>MDEwOlJlcG9zaXRvcnkyNzY3MTgxNjc=</td>\n",
       "      <td>bcn-feb-2019</td>\n",
       "      <td>brunacarolino/bcn-feb-2019</td>\n",
       "      <td>False</td>\n",
       "      <td>{'login': 'brunacarolino', 'id': 67610079, 'no...</td>\n",
       "      <td>https://github.com/brunacarolino/bcn-feb-2019</td>\n",
       "      <td>None</td>\n",
       "      <td>True</td>\n",
       "      <td>https://api.github.com/repos/brunacarolino/bcn...</td>\n",
       "      <td>...</td>\n",
       "      <td>None</td>\n",
       "      <td>False</td>\n",
       "      <td>False</td>\n",
       "      <td>0</td>\n",
       "      <td>{'key': 'agpl-3.0', 'name': 'GNU Affero Genera...</td>\n",
       "      <td>0</td>\n",
       "      <td>0</td>\n",
       "      <td>0</td>\n",
       "      <td>master</td>\n",
       "      <td>{'admin': False, 'push': False, 'pull': True}</td>\n",
       "    </tr>\n",
       "  </tbody>\n",
       "</table>\n",
       "<p>2 rows × 74 columns</p>\n",
       "</div>"
      ],
      "text/plain": [
       "          id                           node_id          name  \\\n",
       "0  278336683  MDEwOlJlcG9zaXRvcnkyNzgzMzY2ODM=  bcn-feb-2019   \n",
       "1  276718167  MDEwOlJlcG9zaXRvcnkyNzY3MTgxNjc=  bcn-feb-2019   \n",
       "\n",
       "                    full_name  private  \\\n",
       "0      franbaldi/bcn-feb-2019    False   \n",
       "1  brunacarolino/bcn-feb-2019    False   \n",
       "\n",
       "                                               owner  \\\n",
       "0  {'login': 'franbaldi', 'id': 25199469, 'node_i...   \n",
       "1  {'login': 'brunacarolino', 'id': 67610079, 'no...   \n",
       "\n",
       "                                        html_url description  fork  \\\n",
       "0      https://github.com/franbaldi/bcn-feb-2019        None  True   \n",
       "1  https://github.com/brunacarolino/bcn-feb-2019        None  True   \n",
       "\n",
       "                                                 url  ... mirror_url archived  \\\n",
       "0  https://api.github.com/repos/franbaldi/bcn-feb...  ...       None    False   \n",
       "1  https://api.github.com/repos/brunacarolino/bcn...  ...       None    False   \n",
       "\n",
       "  disabled open_issues_count  \\\n",
       "0    False                 0   \n",
       "1    False                 0   \n",
       "\n",
       "                                             license forks open_issues  \\\n",
       "0  {'key': 'agpl-3.0', 'name': 'GNU Affero Genera...     0           0   \n",
       "1  {'key': 'agpl-3.0', 'name': 'GNU Affero Genera...     0           0   \n",
       "\n",
       "  watchers default_branch                                    permissions  \n",
       "0        0         master  {'admin': False, 'push': False, 'pull': True}  \n",
       "1        0         master  {'admin': False, 'push': False, 'pull': True}  \n",
       "\n",
       "[2 rows x 74 columns]"
      ]
     },
     "execution_count": 4,
     "metadata": {},
     "output_type": "execute_result"
    }
   ],
   "source": [
    "#1 \n",
    "token = '47ed47f0fb6a00aa2e0a20fbff63eda14cad7925'\n",
    "git_url = 'https://api.github.com/repos/ironhack-datalabs/bcn-feb-2019/forks'\n",
    "#2\n",
    "response = requests.get(git_url, auth=('jonnyteronni',token)).json()\n",
    "forks_df = pd.DataFrame(response)\n",
    "forks_df"
   ]
  },
  {
   "cell_type": "code",
   "execution_count": 3,
   "metadata": {},
   "outputs": [
    {
     "data": {
      "text/plain": [
       "['Jupyter Notebook', None]"
      ]
     },
     "execution_count": 3,
     "metadata": {},
     "output_type": "execute_result"
    }
   ],
   "source": [
    "languages_list = list(set(forks_df['language']))\n",
    "languages_list"
   ]
  },
  {
   "cell_type": "code",
   "execution_count": null,
   "metadata": {},
   "outputs": [],
   "source": []
  }
 ],
 "metadata": {
  "kernelspec": {
   "display_name": "Python 3",
   "language": "python",
   "name": "python3"
  },
  "language_info": {
   "codemirror_mode": {
    "name": "ipython",
    "version": 3
   },
   "file_extension": ".py",
   "mimetype": "text/x-python",
   "name": "python",
   "nbconvert_exporter": "python",
   "pygments_lexer": "ipython3",
   "version": "3.7.6"
  }
 },
 "nbformat": 4,
 "nbformat_minor": 4
}
